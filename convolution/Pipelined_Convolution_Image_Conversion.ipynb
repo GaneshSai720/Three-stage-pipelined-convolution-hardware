{
 "cells": [
  {
   "cell_type": "code",
   "execution_count": 1,
   "id": "119459f9",
   "metadata": {},
   "outputs": [
    {
     "name": "stdout",
     "output_type": "stream",
     "text": [
      "(512, 512, 3)\n",
      "[[[ 48 112 128]\n",
      "  [ 24  48  64]\n",
      "  [ 24  48  64]\n",
      "  ...\n",
      "  [ 88 144 128]\n",
      "  [ 88 144 128]\n",
      "  [ 88 144 128]]\n",
      "\n",
      " [[ 48 112 128]\n",
      "  [ 48 112 128]\n",
      "  [ 24  48  64]\n",
      "  ...\n",
      "  [ 88 144 128]\n",
      "  [ 88 144 128]\n",
      "  [ 88 144 128]]\n",
      "\n",
      " [[ 24  48  64]\n",
      "  [ 48 112 128]\n",
      "  [ 24  48  64]\n",
      "  ...\n",
      "  [ 56  88  88]\n",
      "  [ 56  88  88]\n",
      "  [ 56  88  88]]\n",
      "\n",
      " ...\n",
      "\n",
      " [[144 144 112]\n",
      "  [144 144 112]\n",
      "  [144 144 112]\n",
      "  ...\n",
      "  [ 72  80  88]\n",
      "  [ 72  80  88]\n",
      "  [ 72  80  88]]\n",
      "\n",
      " [[144 144 112]\n",
      "  [144 144 112]\n",
      "  [144 144 112]\n",
      "  ...\n",
      "  [ 72  80  88]\n",
      "  [ 72  80  88]\n",
      "  [ 72  80  88]]\n",
      "\n",
      " [[  8   8   8]\n",
      "  [  8   8   8]\n",
      "  [  8   8   8]\n",
      "  ...\n",
      "  [  0   0   0]\n",
      "  [  0   0   0]\n",
      "  [  0   0   0]]]\n"
     ]
    }
   ],
   "source": [
    "import cv2\n",
    "import numpy as np\n",
    "img = cv2.imread(\"Monkey.png\") # reading the image\n",
    "print(img.shape)\n",
    "print(img)\n",
    "kernel = np.array([[0, 1, 0],\n",
    "                   [1,  -4, 1],\n",
    "                   [0, 1, 0]]) # giving the filter"
   ]
  },
  {
   "cell_type": "code",
   "execution_count": 2,
   "id": "1523d9ed",
   "metadata": {},
   "outputs": [],
   "source": [
    "img_1 = np.zeros((512,1536),dtype = int)\n",
    "for i in range(512):\n",
    "    temp_1 = np.zeros((512*3),dtype=int) # converitng 3d array to 2d array\n",
    "    counter = 0\n",
    "    for j in range(512):\n",
    "        for k in range(3):\n",
    "            temp_1[counter] = img[i][j][k]\n",
    "            counter = counter + 1 # counter which counts the number of integers are loaded and tells the index to load into 1d array temp_1\n",
    "    img_1[i] = temp_1 "
   ]
  },
  {
   "cell_type": "code",
   "execution_count": 3,
   "id": "4c829bc1",
   "metadata": {},
   "outputs": [
    {
     "name": "stdout",
     "output_type": "stream",
     "text": [
      "(512, 1536)\n"
     ]
    }
   ],
   "source": [
    "print(img_1.shape) ## this is the image which will be given to the testbench\n",
    "np.savetxt(\"convolution.sim/sim_1/behav/xsim/img_1.txt\", img_1, fmt='%x')"
   ]
  },
  {
   "cell_type": "markdown",
   "id": "33e88bc0",
   "metadata": {},
   "source": [
    "Before running the below code we have to run the convolution in vivado | convoluted image"
   ]
  },
  {
   "cell_type": "code",
   "execution_count": 4,
   "id": "de1df8f8",
   "metadata": {},
   "outputs": [
    {
     "data": {
      "text/plain": [
       "(260100,)"
      ]
     },
     "execution_count": 4,
     "metadata": {},
     "output_type": "execute_result"
    }
   ],
   "source": [
    "data = np.loadtxt(\"convolution.sim/sim_1/behav/xsim/pixels_out.txt\") # loading the txt file into data\n",
    "data.shape"
   ]
  },
  {
   "cell_type": "code",
   "execution_count": 5,
   "id": "c035141e",
   "metadata": {},
   "outputs": [],
   "source": [
    "counter = 0 \n",
    "data_1 = np.zeros((510,510),dtype = int) ## the final output which has a dimension of 510x510 in gray and white \n",
    "for p in range(510):\n",
    "    for q in range(510):\n",
    "        data_1[p][q] = data[counter] ## converting 1d into 2d\n",
    "        counter = counter+1\n",
    "        "
   ]
  },
  {
   "cell_type": "code",
   "execution_count": 6,
   "id": "d603e756",
   "metadata": {},
   "outputs": [
    {
     "data": {
      "text/plain": [
       "array([[-304,  152,  280, ..., -152, -128,    0],\n",
       "       [-304,  304,  128, ...,  232,  128,    0],\n",
       "       [-104, -256,  304, ...,  -56,  -32,    0],\n",
       "       ...,\n",
       "       [ -80,    8,  -32, ...,   24,   16,    0],\n",
       "       [   0,    0,  -40, ...,    8,    0,    0],\n",
       "       [-376, -376, -416, ..., -232,    0, -240]])"
      ]
     },
     "execution_count": 6,
     "metadata": {},
     "output_type": "execute_result"
    }
   ],
   "source": [
    "data_1"
   ]
  },
  {
   "cell_type": "code",
   "execution_count": 7,
   "id": "93b9574a",
   "metadata": {},
   "outputs": [
    {
     "data": {
      "text/plain": [
       "True"
      ]
     },
     "execution_count": 7,
     "metadata": {},
     "output_type": "execute_result"
    }
   ],
   "source": [
    #"IMAGE_WITH_EDGES = cv2.normalize(data_1, None, 0, 255, cv2.NORM_MINMAX) ## normalizing it so everything will get down to 0 to 255\n",
    "cv2.imwrite(\"MONKEY_EDGES_NEW.png\",data_1) ## storing the image from data_1"
   ]
  },
  {
   "cell_type": "code",
   "execution_count": 8,
   "id": "571ac0f0",
   "metadata": {},
   "outputs": [],
   "source": [
    "filter = np.array([[0,1,0],[1,-4,1],[0,1,0]]) ## convolution in python\n",
    "out_1 = np.zeros((510,510),dtype = int)\n",
    "for i in range(2,512):\n",
    "    for j in range(2,512):\n",
    "        for k in range(3):\n",
    "            for l in range(3):\n",
    "                out_1[i-2][j-2] += img[i-2+k][j-2+l][0]*filter[k][l] + img[i-2+k][j-2+l][1]*filter[k][l] + img[i-2+k][j-2+l][2]*filter[k][l]  "
   ]
  },
  {
   "cell_type": "code",
   "execution_count": 9,
   "id": "cec4eae7",
   "metadata": {},
   "outputs": [
    {
     "data": {
      "text/plain": [
       "array([[-304,  152,  280, ..., -152, -128, -128],\n",
       "       [-304,  304,  128, ...,  232,  128,  128],\n",
       "       [-104, -256,  304, ...,  -56,  -32,  -32],\n",
       "       ...,\n",
       "       [ -80,    8,  -32, ...,   24,   16,   16],\n",
       "       [   0,    0,  -40, ...,    8,    0,    0],\n",
       "       [-376, -376, -416, ..., -232, -240, -240]])"
      ]
     },
     "execution_count": 9,
     "metadata": {},
     "output_type": "execute_result"
    }
   ],
   "source": [
    "out_1"
   ]
  },
  {
   "cell_type": "code",
   "execution_count": null,
   "id": "3cb16783",
   "metadata": {},
   "outputs": [],
   "source": []
  }
 ],
 "metadata": {
  "kernelspec": {
   "display_name": "Python 3 (ipykernel)",
   "language": "python",
   "name": "python3"
  },
  "language_info": {
   "codemirror_mode": {
    "name": "ipython",
    "version": 3
   },
   "file_extension": ".py",
   "mimetype": "text/x-python",
   "name": "python",
   "nbconvert_exporter": "python",
   "pygments_lexer": "ipython3",
   "version": "3.9.12"
  }
 },
 "nbformat": 4,
 "nbformat_minor": 5
}
